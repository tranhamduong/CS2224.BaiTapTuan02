{
  "nbformat": 4,
  "nbformat_minor": 0,
  "metadata": {
    "colab": {
      "name": "BaiTap2-DungSKLearn",
      "provenance": [],
      "collapsed_sections": []
    },
    "kernelspec": {
      "name": "python3",
      "display_name": "Python 3"
    },
    "language_info": {
      "name": "python"
    }
  },
  "cells": [
    {
      "cell_type": "code",
      "execution_count": 1,
      "metadata": {
        "id": "9PrEJl9OxXP8"
      },
      "outputs": [],
      "source": [
        "import pandas as pd \n",
        "from sklearn.feature_extraction.text import TfidfVectorizer\n",
        "\n",
        "import numpy as np"
      ]
    },
    {
      "cell_type": "code",
      "source": [
        "# txt_file = '/content/drive/MyDrive/Documents-CaoHoc/Tim-kiem-Thong-tin-Thi-giac/assignment/BaiTap2/vnexpress_271_titles.txt'\n",
        "txt_file = 'vnexpress_271_titles.txt'"
      ],
      "metadata": {
        "id": "t4Fqw26rxxvM"
      },
      "execution_count": 2,
      "outputs": []
    },
    {
      "cell_type": "code",
      "source": [
        "with open(txt_file, 'r') as f: \n",
        "  rows = f.read().splitlines()"
      ],
      "metadata": {
        "id": "rUgUPDinx1ME"
      },
      "execution_count": 3,
      "outputs": []
    },
    {
      "cell_type": "code",
      "source": [
        "symbols = \"!\\\"#$%&()*+-–.,!/:;<=>?@[\\]^_`{|}~\\n\\'\"\n",
        "processed_texts = []\n",
        "for row in rows:\n",
        "  for i in range(len(symbols)):\n",
        "    row = np.char.replace(row, symbols[i], ' ')\n",
        "    row = np.char.replace(row, \"  \", \" \")\n",
        "  row = np.char.replace(row, ',', '')\n",
        "  row = np.char.lower(row)\n",
        "  processed_texts.append(str(np.char.strip(row)))"
      ],
      "metadata": {
        "id": "YePbo3QCyKLe"
      },
      "execution_count": 4,
      "outputs": []
    },
    {
      "cell_type": "code",
      "source": [
        "print(processed_texts)"
      ],
      "metadata": {
        "colab": {
          "base_uri": "https://localhost:8080/"
        },
        "id": "u03W6yTi0bUp",
        "outputId": "b5b691cd-98db-482d-c5b8-c4a3ac8fdb9e"
      },
      "execution_count": 5,
      "outputs": [
        {
          "output_type": "stream",
          "name": "stdout",
          "text": [
            "['đông nam á siết đi lại với châu phi vì chủng omicron', 'liverpool lập kỷ lục ghi bàn', 'nam phi chỉ trích lệnh cấm đi lại vì biến chủng omicron', 'giá vàng thế giới có tuần tệ nhất 5 tháng', 'erik đoạt quán quân the heroes', 'tự chế thuốc cứu con trai mắc bệnh nan y', 'cô gái mê xê dịch trên bầu trời', 'mancini không cùng nhánh với bồ đào nha sẽ tốt hơn', 'tăng hơn 200 f0 mỗi ngày hà nội điều trị thế nào', 'vi khuẩn lao khiến chàng trai liên tục viêm tinh hoàn', 'hơn 38 000 trẻ lớp 9 ở hà nội đã tiêm vaccine covid', 'nepomniachtchi cầm hoà carlsen ở ván đầu tiên', 'trung quốc muốn hãng gọi xe didi rút niêm yết tại mỹ', '4 cách tăng cường hệ miễn dịch cho trẻ', 'hơn 2 triệu liều vaccine pfizer về việt nam', 'victor vũ đạo diễn có máu liều', 'ronaldo khẩu chiến với đồng đội ở juventus mùa trước', 'cựu số một thế giới tin federer hết thời', 'bán lẻ nhật bản đua mở rộng tại việt nam', 'không quân đức dùng icu bay giải tỏa sức ép covid 19', 'cơ sở cách ly ở khu công nghiệp bị treo', 'đội công binh mũ nồi xanh trình diễn võ thuật', 'cao tốc mỹ thuận cần thơ giải phóng mặt bằng hơn 97', 'juventus bị điều tra gian lận tài chính', 'trung quốc xoa dịu philippines sau vụ chặn tàu tiếp tế', 'doanh nghiệp tự chọn cách xét nghiệm covid 19 tại nơi làm việc', 'nỗi lo siêu biến chủng khiến giới khoa học nơm nớp', 'các mỹ nhân lên đường thi miss universe', 'bốn giả thiết về covid 19 suy yếu tại nhật bản', 'vệ sĩ của ronaldo là cựu đặc nhiệm', 'kim duyên lên đường thi miss universe', 'inter bám sát đỉnh bảng serie a', 'bidv muốn trả cổ tức bằng cổ phiếu tỷ lệ 25', 'nguy cơ từ quá trình đột biến của ncov', 'miền bắc nguy cơ thiếu điện trong năm 2022', 'mỹ nhân đầu trọc tại miss world 2021', 'sống sót thần kỳ sau vụ nổ mỏ than nga', 'bệnh viện covid 19 kín giường', 'rộ tin đồn messi giành quả bóng vàng', 'sống lâu hay sống sâu', 'vợ cố tổng thống hàn quốc xin lỗi dân', 'lý do biến chủng omicron gây lo ngại', 'thùy tiên diện cây hồng thi phỏng vấn', 'cụ ông nhiễm vi khuẩn kháng hầu hết thuốc kháng sinh', 'hà nội nghiên cứu tổ chức 14 làn ưu tiên cho xe buýt', 'siết thổi phồng công dụng thực phẩm trong bán hàng đa cấp', 'phong cách bạn trai kim kardashian', 'miền trung tây nguyên mưa lớn', 'lâm y thần tái xuất sau một tháng sinh con', 'giảm 50 phí trước bạ với ôtô lắp ráp trong nước', 'thụ tinh ống nghiệm nhiều lần thất bại phải làm sao', 'cầu thủ ngoại hạng anh bị cấm ăn gì', 'bé trai nguy kịch sau ngã vào xô nước', 'ông trùm phim hong kong bị tòa phát lệnh bắt', 'trẻ bị viêm thanh quản bọng mắt lớn', 'cháy quán bar ở trung tâm tp hcm', 'nam thần tượng diện áo khoét eo giày cao gót', 'rừng đặc dụng bắc hướng hóa bị chặt phá', 'sản phụ vượt cửa tử sau ba tháng chiến đấu covid 19', 'jessie j khóc kể chuyện sảy thai', 'man utd làm khách của chelsea tuần này', 'máy bay trung quốc tuần tra sẵn sàng chiến đấu gần đài loan', 'who xếp biến chủng mới ở nam phi vào nhóm đáng lo ngại', 'giá vàng miếng tăng gần nửa triệu đồng trong ngày', 'huỳnh nu mang thai lần hai', 'thùy tiên chọn váy xuyên thấu cho bán kết miss grand', 'lối sống phong lưu của trùm phim hong kong', 'hai tuần lây lan xuyên lục địa của chủng omicron', 'doanh nghiệp bứt phá nhờ hệ sinh thái thương mại điện tử', 'bệnh nhân vũ hán vẫn gặp di chứng sau một năm khỏi covid', 'ba em bé nghi ăn nhầm thuốc diệt chuột', 'nhiễm trùng tái phát khiến trẻ sốt cao rét run', 'sóng covid 19 ấn độ đảo chiều trái dự báo', 'messi bị chê sai lầm khi đến psg', 'võ sĩ văn thảo đấu nhà vô địch bất bại thái lan', 'nhật bản cảnh giác trước sóng ngầm covid 19', 'người đẹp hong kong gây thích thú tại miss grand', 'tính toán đường xa của nữ thủ tướng thụy điển giữ chức 7 giờ', 'sau 20 tháng ngồi nhà sinh viên việt háo hức trở lại australia', 'mỹ thừa nhận không thể chặn được biến chủng omicron', 'song joong ki thân mật bạn diễn nữ', 'cách giới tinh hoa quần vợt kiếm và giữ tiền', 'pink xin áo đấu ronaldo tặng trẻ nghèo', 'khổng tú quỳnh mặc gợi cảm ở tuổi 30', 'lampard được guardiola và mourinho khích lệ', 'carrick ‘tôi muốn thắng dù chỉ ở man utd hai ngày’', 'dàn sao dự thảm đỏ rồng xanh', 'giảm lãi suất vay ngân hàng chính sách xã hội', 'dấu ấn erik ở the heroes', 'vietjet ký 150 triệu usd ứng dụng công nghệ kỹ thuật hàng không', 'randori bí quyết thành công của judo nhật bản', 'u quái chứa tóc xương đè xẹp phổi cô gái', 'vietnam airlines lỗ thêm hơn 3 500 tỷ đồng', 'phát hiện hai hũ kim loại cổ ở yên tử', 'thử nghiệm nhiều thuốc mới điều trị covid 19', 'nhiều tỉnh cách ly f0 tại nhà', 'hà lan phát hiện 61 người từ nam phi dương tính ncov', 'cần khuyến khích phát triển thị trường quyền sử dụng đất', 'chứng khoán đứt chuỗi tăng', 'chuyên gia nam phi nói biến chủng omicron bị thổi phồng', 'duy phương bán bánh bèo mưu sinh', '4 học sinh bắc giang phản vệ sau tiêm vaccine covid 19 do cơ địa', 'phòng viêm họng khi giao mùa', 'châu âu phê duyệt vaccine pfizer cho trẻ 5 11 tuổi', 'hai máy bay va chạm tại sân đỗ nội bài', 'quảng ninh đề nghị kỷ luật ở mức cao nhất với bí thư cô tô', 'ikea cho thuê căn hộ chưa đến 1 usd mỗi tháng ở tokyo', 'người anh có thể thiếu rượu uống dịp giáng sinh', 'siêu máy giúp nepo nuôi hy vọng soán ngôi vua cờ carlsen', 'thích tiểu long hoàng tử võ thuật bị chê hết thời', 'khách từ nam phi bị giữ trên máy bay 4 giờ vì biến chủng omicron', 'lưu ý giúp trẻ tăng đề kháng phát triển tốt thời dịch', 'israel đóng biên giới vì biến chủng omicron', 'thủ tướng nêu đề xuất tăng hợp tác á âu', 'djokovic khởi đầu thuận lợi ở davis cup', 'biến túi shopping chanel lv thành phụ kiện hot', 'bị bắt sau 31 năm trốn trại', 'em gái trấn thành đóng cảnh hẹn hò sugar daddy', 'biontech tuyên bố có thể điều chỉnh vaccine trong 6 tuần', 'trump bác thông tin từng định tấn công trung quốc', '6 thủ phạm gây tổn thương hệ tiêu hóa', 'henry pochettino không bảo được messi mbappe neymar', '4 học sinh bắc giang bị phản vệ sau tiêm vaccine covid 19', 'ứng viên hàng đầu của vương miện miss world 2021', 'fauci cảnh báo chủng omicron có thể đã xâm nhập mỹ', 'đội công binh mũ nồi xanh diễn tập bảo vệ doanh trại', 'bò kobe tôm hùm cua hoàng đế gia nhập black friday', 'máu dự trữ ở miền bắc gần cạn kiệt', 'đoan trang làm xôi gà', 'mất 166 ngày để xong thủ tục xây một công trình', 'nữ sinh 14 tuổi thi miss eco teen international', 'thương mại điện tử việt nam tăng hai con số trong mùa dịch', 'bài bật nhảy tăng sức bền cho phái mạnh', 'người đẹp 26 tuổi đại diện đan mạch thi miss universe', 'dòng người xếp hàng rời nam phi', 'laporta sẽ có phép màu để barca đánh bại bayern', 'hiệu quả điều trị covid của molnupiravir thấp hơn ước tính', 'gần triệu đồng một kg rau củ nhập khẩu', 'được lưu danh lpga tour khó thế nào', 'thêm loạt nước châu âu ghi nhận ca nhiễm chủng omicron', 'new york ban bố tình trạng khẩn cấp vì covid 19', 'hà nội có 19 quận huyện là vùng xanh', 'bầu đức nhận sai khi bỏ địa ốc', 'cách giảm muối trong khẩu phần cho người tăng huyết áp', 'tp hcm giảm gần 2 000 nhân sự ở các đơn vị sự nghiệp', 'rèn cơ bụng 6 múi với các bài tập ngoài trời', 'chế xe đạp thành xe trợ lực điện chạy 200 km mỗi lần sạc', 'độ nguy hiểm của siêu biến chủng mới tại nam phi', 'đời cô độc của đệ nhất mỹ nam châu á', 'một năm nổi tiếng của chàng chăn bò đinh chân', 'ikea mở cửa hàng lớn nhất thế giới ở philippines', 'giá nhiên liệu đe dọa kinh tế thái lan', 'dừng tiêm lô vaccine vero cell sau khi ba người tử vong', 'barca thắng trận sân khách đầu tiên tại la liga', 'cô gái mắt xanh afghanistan di tản tới italy', 'công trường xây cầu 2 100 tỷ đồng bắc qua vịnh cửa lục', 'những điều cần biết về viêm tuyến giáp', 'giá căn hộ tại phố nhà giàu đua lập đỉnh', 'giá vàng thế giới giảm 6 phiên liên tiếp', 'kho thóc của đồng bào tây nguyên', 'tùng dương tôi bớt cực đoan sau nhiều năm ca hát', 'black friday hà nội đìu hiu tp hcm tấp nập', 'who bỏ qua hai tên gọi khi định danh biến chủng mới', 'nhiều người nhầm lẫn khái niệm tiền ảo tiền mã hóa', '3 lời khuyên giúp doanh nghiệp tiết kiệm chi phí vẫn giữ chân nhân tài', 'địa phương lo ngại khi đánh giá cấp độ dịch theo số ca nhập viện', 'ceo công ty db schenker việt nam sứ mệnh của chúng tôi là duy trì kết nối', 'người nông dân tạo nhiều giống lúa quý', 'thúc tiến độ dự án mở rộng cao tốc tp hcm long thành', 'rangnick người mang kỳ vọng tái sinh man utd', 'juventus thua trận thứ năm tại serie a', 'kế hoạch về hưu sớm của nữ giám đốc tuổi 30', 'hlv bồ đào nha tự tin về lợi thế trước italy', 'phụ nữ quá 26 tuổi có được tiêm vaccine phòng ung thư cổ tử cung không', 'leroy sane giúp bayern giữ đỉnh bảng', 'áo nịt ngực xếp bèo dành cho đàn ông', 'được hỗ trợ 2 000 đồng thiệt hại do bão', 'chánh thanh tra dùng bằng giả', 'đề xuất giảm thuế cho nhà giá thấp', 'nhạc sĩ hoa cau vườn trầu qua đời', 'thêm 13 109 ca covid 19 cao nhất sau 78 ngày', 'tinh trùng yếu có con được không', 'làm thế nào tránh tình trạng ngưng thở khi ngủ', 'phương trinh jolie mẹ lý bình không bắt tôi làm dâu', 'kỹ thuật mới tăng tỷ lệ thụ thai cho vợ chồng hiếm muộn', 'hagl trở lại afc champions league sau 17 năm', 'thêm nhiều nước áp hạn chế đi lại vì biến chủng omicron', 'biến chủng ncov khiến tài sản rủi ro bị bán tháo trên toàn cầu', 'cách thở tăng cường hô hấp cho f0', 'mỹ xem xét mọi phương án ứng phó lực lượng nga gần ukraine', '9 km dự án vành đai 3 tp hcm sắp khởi công', 'cứu f0 nặng tại icu lớn nhất miền bắc', 'biến chứng đông máu do covid 19 và các bệnh huyết khối khác', 'dỡ nhà hoang lấy phế liệu bị tường đè chết', 'váy áo chinh phục miss world của đỗ thị hà', 'cuộc sống bỏ phố về quê của bảo anh', 'ngành logistics bán lẻ sẽ đạt hơn 422 tỷ usd vào năm 2026', 'đối thủ của benfica ra sân với 9 người', 'vợ chồng bà chu thị bình nhận cổ tức 150 tỷ đồng', 'cách giảm ho sau khi khỏi covid 19', 'xavi muốn barca liều lĩnh hơn', 'cổ phiếu hãng công nghệ indonesia tăng 10 000', 'bài học từ chiến dịch tiêm chủng tăng cường của israel', 'việt nam đề nghị thụy sĩ khuyến khích doanh nghiệp tới đầu tư', 'thùy tiên tự tin thể hiện tại miss grand', 'tổng thống ukraine tố tỷ phú giàu nhất nước âm mưu đảo chính', 'phố trong làng phim nông thôn hiện đại hút khán giả', 'man utd chưa chốt bổ nhiệm hlv rangnick', 'thêm 13 063 ca nhiễm bổ sung hơn 3 000 ca ở tây ninh', 'nhà máy đốt rác hơn 760 tỷ đồng bỏ không nhiều năm', 'hoà phát xin thêm hơn 1 600 ha làm các dự án tại khu kinh tế dung quất', 'man utd tiếp cận rangnick như thế nào', 'lính mỹ thưởng thức gần 45 tấn thịt bò trong tiệc tạ ơn', 'hà nội tiêm vaccine covid cho học sinh lớp 9 từ ngày 27 11', 'eu cảnh báo nguy cơ cao từ biến chủng omicron', 'bồ đào nha và italy chung nhánh vòng vớt world cup 2022', 'dầu thô chứng khoán mỹ có phiên giảm mạnh nhất năm', 'chuyện thừa kế trong gia đình giàu nhất châu á', 'giá bất động sản năm sau dự báo tiếp tục tăng', 'đề xuất khai thác chuyến bay nội địa bình thường từ đầu năm 2022', 'arsenal bám sát top 4', 'tranh rác với kền kền', 'xử trí mụn trứng cá', 'tp hcm siết kiểm soát đi lại lưu trú người dân', 'việt nam á quân tương lai của thương mại điện tử đông nam á', 'biden kêu gọi từ bỏ bản quyền vaccine để chống biến chủng omicron', 'hlv park triệu tập đỗ hùng dũng', 'xuất khẩu mực bạch tuộc phục hồi', 'từ bỏ thu nhập 300 triệu đồng để đến với ngành logistics', 'hà thu hát về huế', 'âu dương chấn hoa kỷ niệm 25 năm cưới', 'võ sĩ thu nhi được dự giải quốc gia', 'olivia rodrigo chuộng mặc gợi cảm ở tuổi 18', 'nguyên nhân thoái hóa điểm vàng gây mù ở người lớn tuổi', 'biến chủng omicron gây lo ngại vaccine giảm hiệu quả', 'aubameyang gây sốc với pha hỏng ăn trước newcastle', 'thảm rồng thời nhà minh giá hơn 7 triệu usd', 'ngày hội mua sắm black friday trên toàn cầu', 'đề xuất 10 tiêu chí với kinh doanh massage và spa', 'việt nam nên nới quy định cách ly khi mở lại đường bay quốc tế', 'mẹ giúp con bắt trăn kẹt trong lốp ôtô', '4 lý do khiến người mua bảo hiểm không hài lòng', 'kanye west muốn tái hợp kim kardashian', 'minh hằng đóng người mẹ khó tính', 'giấc mơ mua nhà sài gòn', 'hà nội nghiên cứu nguy cơ khi đi thang máy với f0', 'gian nan đường rời nam phi', 'haaland ghi bàn ngay trận đầu trở lại', 'cđv lo cho ronaldo khi hlv rangnick đến man utd', 'song hye kyo phủ hàng hiệu trong phim mới', 'người thứ 4 tử vong sau tiêm vaccine ở thanh hóa', 'who không nên vội áp hạn chế đi lại vì biến chủng mới', 'tiếng kẻng báo động giúp vây bắt trộm', 'erik tôi từng sốc vì bị chê hát dở', 'ronaldo đá thế nào trước chelsea', 'khối doanh nghiệp fdi bơm thêm 8 tỷ usd trong 11 tháng', 'european tour mùa mới xáo trộn vì covid 19', 'vì sao black friday năm nay kém sôi động', 'vinamilk đầu tư dự án nửa tỷ usd với đối tác nhật', 'thủ tướng sản xuất bằng được vaccine trong nước', 'người bệnh xương khớp nên ăn gì', 'wto hoãn họp vì biến chủng omicron', 'tổng bí thư chống tiêu cực là chống suy thoái tư tưởng chính trị', 'những quả núi bãi thải than bủa vây khu dân cư', 'xuất khẩu gỗ sang trung quốc tăng đột biến', 'phát hiện kim cương kép cực hiếm', 'chuỗi cung ứng lạm phát thách thức kế hoạch kinh tế của biden', 'anh xác nhận hai ca nhiễm biến chủng omicron', 'tử vong do ngộ độc rượu methanol', 'nhiều sinh viên mới ra trường muốn lương 10 15 triệu đồng']\n"
          ]
        }
      ]
    },
    {
      "cell_type": "code",
      "source": [
        "tfIdfVectorizer=TfidfVectorizer(use_idf=True)\n",
        "tfIdf = tfIdfVectorizer.fit_transform(processed_texts)\n",
        "df = pd.DataFrame(tfIdf[0].T.todense(), index=tfIdfVectorizer.get_feature_names(), columns=[\"TF-IDF\"])\n",
        "df = df.sort_values('TF-IDF', ascending=False)\n",
        "print (df)"
      ],
      "metadata": {
        "colab": {
          "base_uri": "https://localhost:8080/"
        },
        "id": "s9WwvyYtyMs5",
        "outputId": "17d89cad-f565-4b20-a7de-237a4b445330"
      },
      "execution_count": 6,
      "outputs": [
        {
          "output_type": "stream",
          "name": "stdout",
          "text": [
            "          TF-IDF\n",
            "siết    0.361508\n",
            "đông    0.361508\n",
            "châu    0.333405\n",
            "đi      0.322721\n",
            "lại     0.298000\n",
            "...          ...\n",
            "khoán   0.000000\n",
            "khoét   0.000000\n",
            "khu     0.000000\n",
            "khuyên  0.000000\n",
            "ứng     0.000000\n",
            "\n",
            "[1075 rows x 1 columns]\n"
          ]
        },
        {
          "output_type": "stream",
          "name": "stderr",
          "text": [
            "/usr/local/lib/python3.7/dist-packages/sklearn/utils/deprecation.py:87: FutureWarning: Function get_feature_names is deprecated; get_feature_names is deprecated in 1.0 and will be removed in 1.2. Please use get_feature_names_out instead.\n",
            "  warnings.warn(msg, category=FutureWarning)\n"
          ]
        }
      ]
    },
    {
      "cell_type": "code",
      "source": [
        "print (df[0:20]) # xem diem tf-idf cua cac tu trong title so 1 ('Đông Nam Á siết đi lại với châu Phi vì chủng Omicron')"
      ],
      "metadata": {
        "colab": {
          "base_uri": "https://localhost:8080/"
        },
        "id": "bMBg374U0fv1",
        "outputId": "6444eb60-e47d-4c65-8cc1-89a2a8152e2a"
      },
      "execution_count": 7,
      "outputs": [
        {
          "output_type": "stream",
          "name": "stdout",
          "text": [
            "           TF-IDF\n",
            "siết     0.361508\n",
            "đông     0.361508\n",
            "châu     0.333405\n",
            "đi       0.322721\n",
            "lại      0.298000\n",
            "phi      0.298000\n",
            "vì       0.285363\n",
            "với      0.274679\n",
            "omicron  0.261222\n",
            "nam      0.253513\n",
            "chủng    0.237321\n",
            "sôi      0.000000\n",
            "sản      0.000000\n",
            "sạc      0.000000\n",
            "sĩ       0.000000\n",
            "000      0.000000\n",
            "sắm      0.000000\n",
            "sót      0.000000\n",
            "sóng     0.000000\n",
            "sâu      0.000000\n"
          ]
        }
      ]
    }
  ]
}